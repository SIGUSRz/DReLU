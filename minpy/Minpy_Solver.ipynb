{
 "cells": [
  {
   "cell_type": "code",
   "execution_count": 1,
   "metadata": {
    "collapsed": false
   },
   "outputs": [],
   "source": [
    "import os\n",
    "os.environ['CUDA_VISIBLE_DEVICES'] = '3'\n",
    "\n",
    "import matplotlib.pyplot as plt\n",
    "# This is a bit of magic to make matplotlib figures appear inline in the notebook\n",
    "# rather than in a new window.\n",
    "%matplotlib inline\n",
    "plt.rcParams['figure.figsize'] = (10.0, 8.0) # set default size of plots\n",
    "plt.rcParams['image.interpolation'] = 'nearest'\n",
    "plt.rcParams['image.cmap'] = 'gray'\n",
    "\n",
    "# Some more magic so that the notebook will reload external python modules;\n",
    "# see http://stackoverflow.com/questions/1907993/autoreload-of-modules-in-ipython\n",
    "%load_ext autoreload\n",
    "%autoreload 2"
   ]
  },
  {
   "cell_type": "code",
   "execution_count": 2,
   "metadata": {
    "collapsed": false
   },
   "outputs": [
    {
     "name": "stderr",
     "output_type": "stream",
     "text": [
      "\u001b[32mI0716 17:40:02 7845 minpy.numpy.random:__init__:30]\u001b[0m Initialize module: minpy.numpy.random.\n",
      "\u001b[32mI0716 17:40:02 7845 minpy.numpy.random:__init__:38]\u001b[0m Importing from minpy.array_variants.numpy.random.\n",
      "\u001b[32mI0716 17:40:02 7845 minpy.numpy.random:__init__:45]\u001b[0m Got 53 primitives from minpy.array_variants.numpy.random\n",
      "\u001b[32mI0716 17:40:02 7845 minpy.numpy.random:__init__:38]\u001b[0m Importing from minpy.array_variants.mxnet.random.\n",
      "\u001b[32mI0716 17:40:02 7845 minpy.numpy.random:__init__:45]\u001b[0m Got 2 primitives from minpy.array_variants.mxnet.random\n",
      "\u001b[32mI0716 17:40:02 7845 minpy.numpy.random:__init__:50]\u001b[0m Import 55 primitives\n",
      "\u001b[32mI0716 17:40:02 7845 minpy.numpy:__init__:30]\u001b[0m Initialize module: minpy.numpy.\n",
      "\u001b[32mI0716 17:40:02 7845 minpy.numpy:__init__:38]\u001b[0m Importing from minpy.array_variants.numpy.\n",
      "\u001b[32mI0716 17:40:02 7845 minpy.numpy:__init__:45]\u001b[0m Got 396 primitives from minpy.array_variants.numpy\n",
      "\u001b[32mI0716 17:40:02 7845 minpy.numpy:__init__:38]\u001b[0m Importing from minpy.array_variants.mxnet.\n",
      "\u001b[32mI0716 17:40:02 7845 minpy.numpy:__init__:45]\u001b[0m Got 36 primitives from minpy.array_variants.mxnet\n",
      "\u001b[32mI0716 17:40:02 7845 minpy.numpy:__init__:50]\u001b[0m Import 432 primitives\n"
     ]
    },
    {
     "name": "stdout",
     "output_type": "stream",
     "text": [
      "train-images-idx3-ubyte.pkl exits\n",
      "train-labels-idx1-ubyte.pkl exits\n",
      "t10k-images-idx3-ubyte.pkl exits\n",
      "t10k-labels-idx1-ubyte.pkl exits\n",
      "(60000, 28, 28)\n",
      "(60000,)\n",
      "(0, 28, 28)\n",
      "(0,)\n",
      "(10000, 28, 28)\n",
      "(10000,)\n"
     ]
    }
   ],
   "source": [
    "import minpy.numpy as np\n",
    "import load_data\n",
    "num_val = 0\n",
    "num_train = 60000 - num_val\n",
    "num_test = 10000\n",
    "batch_size = 128\n",
    "cifar_path = 'Datasets/cifar-10/'\n",
    "mnist_path = 'Datasets/mnist/'\n",
    "\n",
    "def get_data(path,num_train,num_val,num_test):\n",
    "    x_train,y_train,x_test,y_test = load_data.load_MNIST(path)\n",
    "    x_val = x_train[num_train:num_train+num_val]\n",
    "    y_val = y_train[num_train:num_train+num_val]\n",
    "    y_val = y_val.reshape(y_val.shape[0])\n",
    "    x_train = x_train[:num_train]\n",
    "    y_train = y_train[:num_train]\n",
    "    y_train = y_train.reshape(y_train.shape[0])\n",
    "    x_test = x_test[:num_test]\n",
    "    y_test = y_test[:num_test]\n",
    "    y_test = y_test.reshape(y_test.shape[0])\n",
    "    return x_train,y_train,x_val,y_val,x_test,y_test\n",
    "x_train,y_train,x_val,y_val,x_test,y_test = get_data(mnist_path,num_train,num_val,num_test)\n",
    "print(x_train.shape)\n",
    "print(y_train.shape)\n",
    "print(x_val.shape)\n",
    "print(y_val.shape)\n",
    "print(x_test.shape)\n",
    "print(y_test.shape)\n",
    "\n",
    "_,H,W = x_train.shape\n",
    "D = H * W\n",
    "data = (x_train.reshape(x_train.shape[0],D), y_train, \n",
    "        x_val.reshape(x_val.shape[0],D), y_val, \n",
    "        x_test.reshape(x_test.shape[0],D), y_test)\n",
    "# data = (x_train.reshape(x_train.shape[0],D), np.reshape(y_train,(y_train.shape[0], 1)),\n",
    "#         x_val.reshape(x_val.shape[0],D), np.reshape(y_val, (y_val.shape[0], 1)), \n",
    "#         x_test.reshape(x_test.shape[0],D), np.reshape(y_test, (y_test.shape[0], 1)))"
   ]
  },
  {
   "cell_type": "code",
   "execution_count": 3,
   "metadata": {
    "collapsed": false,
    "scrolled": false
   },
   "outputs": [
    {
     "name": "stderr",
     "output_type": "stream",
     "text": [
      "\u001b[32mI0716 17:40:03 7845 minpy.numpy:__getattr__:69]\u001b[0m No entry found for \"random\" in registry, fallback.\n",
      "\u001b[32mI0716 17:40:03 7845 minpy.numpy:__getattr__:69]\u001b[0m No entry found for \"random\" in registry, fallback.\n",
      "\u001b[32mI0716 17:40:03 7845 minpy.numpy:__getattr__:69]\u001b[0m No entry found for \"random\" in registry, fallback.\n"
     ]
    },
    {
     "name": "stdout",
     "output_type": "stream",
     "text": [
      "epoch 0 batch 0 loss: 2.301755\n",
      "epoch 0 batch 50 loss: 2.263257\n",
      "epoch 0 batch 100 loss: 1.277867\n",
      "epoch 0 batch 150 loss: 0.820347\n",
      "epoch 0 batch 200 loss: 0.868378\n",
      "epoch 0 batch 250 loss: 0.586583\n",
      "epoch 0 batch 300 loss: 0.252211\n",
      "epoch 0 batch 350 loss: 0.466154\n",
      "epoch 0 batch 400 loss: 0.485196\n",
      "epoch 0 batch 450 loss: 0.689993\n",
      "epoch 0 batch 500 loss: 0.236123\n",
      "epoch 0 batch 550 loss: 0.348469\n",
      "epoch 0 batch 600 loss: 0.343156\n",
      "epoch 0 batch 650 loss: 0.225836\n",
      "epoch 0 batch 700 loss: 0.123083\n",
      "epoch 0 batch 750 loss: 0.353316\n",
      "epoch 0 batch 800 loss: 0.187126\n",
      "epoch 0 batch 850 loss: 0.556308\n",
      "epoch 0 batch 900 loss: 0.291007\n",
      "epoch 0 batch 950 loss: 0.235505\n",
      "epoch 0 batch 1000 loss: 0.141386\n",
      "epoch 0 batch 1050 loss: 0.121419\n",
      "epoch 0 batch 1100 loss: 0.152259\n",
      "epoch 0 batch 1150 loss: 0.144116\n",
      "test accuracy: 0.935100\n",
      "optimal accuracy: 0.935100\n",
      "epoch 1 batch 0 loss: 0.125660\n",
      "epoch 1 batch 50 loss: 0.042751\n",
      "epoch 1 batch 100 loss: 0.095499\n",
      "epoch 1 batch 150 loss: 0.207183\n",
      "epoch 1 batch 200 loss: 0.204460\n",
      "epoch 1 batch 250 loss: 0.231727\n",
      "epoch 1 batch 300 loss: 0.092276\n",
      "epoch 1 batch 350 loss: 0.138428\n",
      "epoch 1 batch 400 loss: 0.213766\n",
      "epoch 1 batch 450 loss: 0.315698\n",
      "epoch 1 batch 500 loss: 0.075982\n",
      "epoch 1 batch 550 loss: 0.243581\n",
      "epoch 1 batch 600 loss: 0.167715\n",
      "epoch 1 batch 650 loss: 0.040788\n",
      "epoch 1 batch 700 loss: 0.033747\n",
      "epoch 1 batch 750 loss: 0.208217\n",
      "epoch 1 batch 800 loss: 0.101672\n",
      "epoch 1 batch 850 loss: 0.228646\n",
      "epoch 1 batch 900 loss: 0.114364\n",
      "epoch 1 batch 950 loss: 0.111622\n",
      "epoch 1 batch 1000 loss: 0.039817\n",
      "epoch 1 batch 1050 loss: 0.075751\n",
      "epoch 1 batch 1100 loss: 0.058952\n",
      "epoch 1 batch 1150 loss: 0.055655\n",
      "test accuracy: 0.959300\n",
      "optimal accuracy: 0.959300\n",
      "epoch 2 batch 0 loss: 0.055643\n",
      "epoch 2 batch 50 loss: 0.017355\n",
      "epoch 2 batch 100 loss: 0.033094\n",
      "epoch 2 batch 150 loss: 0.098942\n"
     ]
    },
    {
     "ename": "KeyboardInterrupt",
     "evalue": "",
     "output_type": "error",
     "traceback": [
      "\u001b[1;31m---------------------------------------------------------------------------\u001b[0m",
      "\u001b[1;31mKeyboardInterrupt\u001b[0m                         Traceback (most recent call last)",
      "\u001b[1;32m<ipython-input-3-833a13684862>\u001b[0m in \u001b[0;36m<module>\u001b[1;34m()\u001b[0m\n\u001b[0;32m     25\u001b[0m }\n\u001b[0;32m     26\u001b[0m \u001b[0msolver\u001b[0m \u001b[1;33m=\u001b[0m \u001b[0mSolver\u001b[0m\u001b[1;33m(\u001b[0m\u001b[0mmodel\u001b[0m\u001b[1;33m,\u001b[0m \u001b[0mdata\u001b[0m\u001b[1;33m,\u001b[0m \u001b[1;33m**\u001b[0m\u001b[0msolver_setting\u001b[0m\u001b[1;33m)\u001b[0m\u001b[1;33m\u001b[0m\u001b[0m\n\u001b[1;32m---> 27\u001b[1;33m \u001b[0maccuracy_record\u001b[0m \u001b[1;33m=\u001b[0m \u001b[0msolver\u001b[0m\u001b[1;33m.\u001b[0m\u001b[0mtrain\u001b[0m\u001b[1;33m(\u001b[0m\u001b[1;33m)\u001b[0m\u001b[1;33m\u001b[0m\u001b[0m\n\u001b[0m\u001b[0;32m     28\u001b[0m \u001b[0mutils\u001b[0m\u001b[1;33m.\u001b[0m\u001b[0mrecord_settings\u001b[0m\u001b[1;33m(\u001b[0m\u001b[1;34m'%s-%s'\u001b[0m \u001b[1;33m%\u001b[0m \u001b[1;33m(\u001b[0m\u001b[0mmodel_name\u001b[0m\u001b[1;33m,\u001b[0m \u001b[0mact_mode\u001b[0m\u001b[1;33m)\u001b[0m\u001b[1;33m,\u001b[0m \u001b[0mmodel_setting\u001b[0m\u001b[1;33m,\u001b[0m \u001b[0msolver_setting\u001b[0m\u001b[1;33m)\u001b[0m\u001b[1;33m\u001b[0m\u001b[0m\n\u001b[0;32m     29\u001b[0m \u001b[1;32mprint\u001b[0m \u001b[0maccuracy_record\u001b[0m\u001b[1;33m\u001b[0m\u001b[0m\n",
      "\u001b[1;32m/home/zs/Documents/DReLU/minpy/solver.pyc\u001b[0m in \u001b[0;36mtrain\u001b[1;34m(self)\u001b[0m\n\u001b[0;32m     42\u001b[0m                 \u001b[0mdata\u001b[0m \u001b[1;33m=\u001b[0m \u001b[0mx_train\u001b[0m\u001b[1;33m[\u001b[0m\u001b[0mbatch\u001b[0m \u001b[1;33m*\u001b[0m \u001b[0mself\u001b[0m\u001b[1;33m.\u001b[0m\u001b[0mbatch_size\u001b[0m\u001b[1;33m:\u001b[0m\u001b[1;33m(\u001b[0m\u001b[0mbatch\u001b[0m\u001b[1;33m+\u001b[0m\u001b[1;36m1\u001b[0m\u001b[1;33m)\u001b[0m \u001b[1;33m*\u001b[0m \u001b[0mself\u001b[0m\u001b[1;33m.\u001b[0m\u001b[0mbatch_size\u001b[0m\u001b[1;33m]\u001b[0m\u001b[1;33m\u001b[0m\u001b[0m\n\u001b[0;32m     43\u001b[0m                 \u001b[0mlabel\u001b[0m \u001b[1;33m=\u001b[0m \u001b[0my_train\u001b[0m\u001b[1;33m[\u001b[0m\u001b[0mbatch\u001b[0m \u001b[1;33m*\u001b[0m \u001b[0mself\u001b[0m\u001b[1;33m.\u001b[0m\u001b[0mbatch_size\u001b[0m\u001b[1;33m:\u001b[0m\u001b[1;33m(\u001b[0m\u001b[0mbatch\u001b[0m\u001b[1;33m+\u001b[0m\u001b[1;36m1\u001b[0m\u001b[1;33m)\u001b[0m \u001b[1;33m*\u001b[0m \u001b[0mself\u001b[0m\u001b[1;33m.\u001b[0m\u001b[0mbatch_size\u001b[0m\u001b[1;33m]\u001b[0m\u001b[1;33m\u001b[0m\u001b[0m\n\u001b[1;32m---> 44\u001b[1;33m                 \u001b[0mgradient\u001b[0m\u001b[1;33m,\u001b[0m \u001b[0mloss\u001b[0m \u001b[1;33m=\u001b[0m \u001b[0mself\u001b[0m\u001b[1;33m.\u001b[0m\u001b[0mmodel\u001b[0m\u001b[1;33m.\u001b[0m\u001b[0mloss\u001b[0m\u001b[1;33m(\u001b[0m\u001b[0mdata\u001b[0m\u001b[1;33m,\u001b[0m \u001b[0mlabel\u001b[0m\u001b[1;33m)\u001b[0m\u001b[1;33m\u001b[0m\u001b[0m\n\u001b[0m\u001b[0;32m     45\u001b[0m                 \u001b[0moptimize\u001b[0m\u001b[1;33m(\u001b[0m\u001b[0mself\u001b[0m\u001b[1;33m.\u001b[0m\u001b[0mmodel\u001b[0m\u001b[1;33m.\u001b[0m\u001b[0mparam\u001b[0m\u001b[1;33m,\u001b[0m \u001b[0mgradient\u001b[0m\u001b[1;33m,\u001b[0m \u001b[1;33m**\u001b[0m\u001b[0mself\u001b[0m\u001b[1;33m.\u001b[0m\u001b[0mupdate_setting\u001b[0m\u001b[1;33m)\u001b[0m\u001b[1;33m\u001b[0m\u001b[0m\n\u001b[0;32m     46\u001b[0m                 \u001b[0mloss_record\u001b[0m\u001b[1;33m.\u001b[0m\u001b[0mappend\u001b[0m\u001b[1;33m(\u001b[0m\u001b[0mloss\u001b[0m\u001b[1;33m.\u001b[0m\u001b[0masnumpy\u001b[0m\u001b[1;33m(\u001b[0m\u001b[1;33m)\u001b[0m\u001b[1;33m)\u001b[0m\u001b[1;33m\u001b[0m\u001b[0m\n",
      "\u001b[1;32m/home/zs/Documents/DReLU/minpy/model_zoo/MLP2.pyc\u001b[0m in \u001b[0;36mloss\u001b[1;34m(self, X, y)\u001b[0m\n\u001b[0;32m     78\u001b[0m         \u001b[1;32melse\u001b[0m\u001b[1;33m:\u001b[0m\u001b[1;33m\u001b[0m\u001b[0m\n\u001b[0;32m     79\u001b[0m             \u001b[0mbackprop\u001b[0m \u001b[1;33m=\u001b[0m \u001b[0mgrad_and_loss\u001b[0m\u001b[1;33m(\u001b[0m\u001b[0mself\u001b[0m\u001b[1;33m.\u001b[0m\u001b[0m_softmax_loss\u001b[0m\u001b[1;33m,\u001b[0m \u001b[0mrange\u001b[0m\u001b[1;33m(\u001b[0m\u001b[1;36m2\u001b[0m\u001b[1;33m,\u001b[0m \u001b[0mlen\u001b[0m\u001b[1;33m(\u001b[0m\u001b[0mself\u001b[0m\u001b[1;33m.\u001b[0m\u001b[0mparam\u001b[0m\u001b[1;33m)\u001b[0m \u001b[1;33m+\u001b[0m \u001b[1;36m2\u001b[0m\u001b[1;33m)\u001b[0m\u001b[1;33m)\u001b[0m\u001b[1;33m\u001b[0m\u001b[0m\n\u001b[1;32m---> 80\u001b[1;33m             \u001b[1;32mreturn\u001b[0m \u001b[0mbackprop\u001b[0m\u001b[1;33m(\u001b[0m\u001b[0mX\u001b[0m\u001b[1;33m,\u001b[0m \u001b[0my\u001b[0m\u001b[1;33m,\u001b[0m \u001b[1;33m*\u001b[0m\u001b[0mself\u001b[0m\u001b[1;33m.\u001b[0m\u001b[0mparam\u001b[0m\u001b[1;33m)\u001b[0m\u001b[1;33m\u001b[0m\u001b[0m\n\u001b[0m",
      "\u001b[1;32m/usr/local/lib/python2.7/dist-packages/minpy/core.pyc\u001b[0m in \u001b[0;36mwrapped\u001b[1;34m(*args)\u001b[0m\n\u001b[0;32m     30\u001b[0m         \u001b[1;32mfor\u001b[0m \u001b[0mi\u001b[0m \u001b[1;32min\u001b[0m \u001b[0margnums\u001b[0m\u001b[1;33m:\u001b[0m\u001b[1;33m\u001b[0m\u001b[0m\n\u001b[0;32m     31\u001b[0m             \u001b[0marrays\u001b[0m\u001b[1;33m[\u001b[0m\u001b[0mi\u001b[0m\u001b[1;33m]\u001b[0m\u001b[1;33m.\u001b[0m\u001b[0m_marked_for_bp\u001b[0m \u001b[1;33m=\u001b[0m \u001b[0mTrue\u001b[0m\u001b[1;33m\u001b[0m\u001b[0m\n\u001b[1;32m---> 32\u001b[1;33m         \u001b[0mresult_array\u001b[0m \u001b[1;33m=\u001b[0m \u001b[0mfunc\u001b[0m\u001b[1;33m(\u001b[0m\u001b[1;33m*\u001b[0m\u001b[0marrays\u001b[0m\u001b[1;33m)\u001b[0m\u001b[1;33m\u001b[0m\u001b[0m\n\u001b[0m\u001b[0;32m     33\u001b[0m         \u001b[0m_logger\u001b[0m\u001b[1;33m.\u001b[0m\u001b[0mdebug\u001b[0m\u001b[1;33m(\u001b[0m\u001b[1;34m'---Forward pass finished. Start backward pass'\u001b[0m\u001b[1;33m)\u001b[0m\u001b[1;33m\u001b[0m\u001b[0m\n\u001b[0;32m     34\u001b[0m         \u001b[0mgrad_vals\u001b[0m \u001b[1;33m=\u001b[0m \u001b[1;33m[\u001b[0m\u001b[1;33m]\u001b[0m\u001b[1;33m\u001b[0m\u001b[0m\n",
      "\u001b[1;32m/home/zs/Documents/DReLU/minpy/model_zoo/MLP2.pyc\u001b[0m in \u001b[0;36m_softmax_loss\u001b[1;34m(self, X, y, *args)\u001b[0m\n\u001b[0;32m     67\u001b[0m     \u001b[1;32mdef\u001b[0m \u001b[0m_softmax_loss\u001b[0m\u001b[1;33m(\u001b[0m\u001b[0mself\u001b[0m\u001b[1;33m,\u001b[0m \u001b[0mX\u001b[0m\u001b[1;33m,\u001b[0m \u001b[0my\u001b[0m\u001b[1;33m,\u001b[0m \u001b[1;33m*\u001b[0m\u001b[0margs\u001b[0m\u001b[1;33m)\u001b[0m\u001b[1;33m:\u001b[0m\u001b[1;33m\u001b[0m\u001b[0m\n\u001b[0;32m     68\u001b[0m         \u001b[0mN\u001b[0m \u001b[1;33m=\u001b[0m \u001b[0mX\u001b[0m\u001b[1;33m.\u001b[0m\u001b[0mshape\u001b[0m\u001b[1;33m[\u001b[0m\u001b[1;36m0\u001b[0m\u001b[1;33m]\u001b[0m\u001b[1;33m\u001b[0m\u001b[0m\n\u001b[1;32m---> 69\u001b[1;33m         \u001b[0mscores\u001b[0m \u001b[1;33m=\u001b[0m \u001b[0mself\u001b[0m\u001b[1;33m.\u001b[0m\u001b[0m_forward\u001b[0m\u001b[1;33m(\u001b[0m\u001b[0mX\u001b[0m\u001b[1;33m,\u001b[0m \u001b[1;33m*\u001b[0m\u001b[0margs\u001b[0m\u001b[1;33m)\u001b[0m\u001b[1;33m\u001b[0m\u001b[0m\n\u001b[0m\u001b[0;32m     70\u001b[0m         \u001b[0mscores\u001b[0m \u001b[1;33m=\u001b[0m \u001b[0mnp\u001b[0m\u001b[1;33m.\u001b[0m\u001b[0mexp\u001b[0m\u001b[1;33m(\u001b[0m\u001b[0mscores\u001b[0m \u001b[1;33m-\u001b[0m \u001b[0mnp\u001b[0m\u001b[1;33m.\u001b[0m\u001b[0mmax\u001b[0m\u001b[1;33m(\u001b[0m\u001b[0mscores\u001b[0m\u001b[1;33m,\u001b[0m \u001b[0maxis\u001b[0m\u001b[1;33m=\u001b[0m\u001b[1;36m1\u001b[0m\u001b[1;33m,\u001b[0m \u001b[0mkeepdims\u001b[0m\u001b[1;33m=\u001b[0m\u001b[0mTrue\u001b[0m\u001b[1;33m)\u001b[0m\u001b[1;33m)\u001b[0m\u001b[1;33m\u001b[0m\u001b[0m\n\u001b[0;32m     71\u001b[0m         \u001b[0mprob\u001b[0m \u001b[1;33m=\u001b[0m \u001b[0mscores\u001b[0m \u001b[1;33m/\u001b[0m \u001b[0mnp\u001b[0m\u001b[1;33m.\u001b[0m\u001b[0msum\u001b[0m\u001b[1;33m(\u001b[0m\u001b[0mscores\u001b[0m\u001b[1;33m,\u001b[0m \u001b[0maxis\u001b[0m\u001b[1;33m=\u001b[0m\u001b[1;36m1\u001b[0m\u001b[1;33m,\u001b[0m \u001b[0mkeepdims\u001b[0m\u001b[1;33m=\u001b[0m\u001b[0mTrue\u001b[0m\u001b[1;33m)\u001b[0m\u001b[1;33m\u001b[0m\u001b[0m\n",
      "\u001b[1;32m/home/zs/Documents/DReLU/minpy/model_zoo/MLP2.pyc\u001b[0m in \u001b[0;36m_forward\u001b[1;34m(self, X, *args)\u001b[0m\n\u001b[0;32m     37\u001b[0m         \u001b[0mac1\u001b[0m \u001b[1;33m=\u001b[0m \u001b[0mactivate\u001b[0m\u001b[1;33m(\u001b[0m\u001b[0mfc1\u001b[0m\u001b[1;33m,\u001b[0m \u001b[0mself\u001b[0m\u001b[1;33m.\u001b[0m\u001b[0mact_mode\u001b[0m\u001b[1;33m[\u001b[0m\u001b[1;36m0\u001b[0m\u001b[1;33m]\u001b[0m\u001b[1;33m,\u001b[0m \u001b[0mlower1\u001b[0m\u001b[1;33m,\u001b[0m \u001b[0mupper1\u001b[0m\u001b[1;33m)\u001b[0m\u001b[1;33m\u001b[0m\u001b[0m\n\u001b[0;32m     38\u001b[0m         \u001b[0mfc2\u001b[0m \u001b[1;33m=\u001b[0m \u001b[0mfully_connected\u001b[0m\u001b[1;33m(\u001b[0m\u001b[0mac1\u001b[0m\u001b[1;33m,\u001b[0m \u001b[0mw1\u001b[0m\u001b[1;33m,\u001b[0m \u001b[0mb1\u001b[0m\u001b[1;33m)\u001b[0m\u001b[1;33m\u001b[0m\u001b[0m\n\u001b[1;32m---> 39\u001b[1;33m         \u001b[0mac2\u001b[0m \u001b[1;33m=\u001b[0m \u001b[0mactivate\u001b[0m\u001b[1;33m(\u001b[0m\u001b[0mfc2\u001b[0m\u001b[1;33m,\u001b[0m \u001b[0mself\u001b[0m\u001b[1;33m.\u001b[0m\u001b[0mact_mode\u001b[0m\u001b[1;33m[\u001b[0m\u001b[1;36m1\u001b[0m\u001b[1;33m]\u001b[0m\u001b[1;33m,\u001b[0m \u001b[0mlower2\u001b[0m\u001b[1;33m,\u001b[0m \u001b[0mupper2\u001b[0m\u001b[1;33m)\u001b[0m\u001b[1;33m\u001b[0m\u001b[0m\n\u001b[0m\u001b[0;32m     40\u001b[0m         \u001b[0mfc3\u001b[0m \u001b[1;33m=\u001b[0m \u001b[0mfully_connected\u001b[0m\u001b[1;33m(\u001b[0m\u001b[0mac2\u001b[0m\u001b[1;33m,\u001b[0m \u001b[0mw2\u001b[0m\u001b[1;33m,\u001b[0m \u001b[0mb2\u001b[0m\u001b[1;33m)\u001b[0m\u001b[1;33m\u001b[0m\u001b[0m\n\u001b[0;32m     41\u001b[0m \u001b[1;33m\u001b[0m\u001b[0m\n",
      "\u001b[1;32m/home/zs/Documents/DReLU/minpy/layers.pyc\u001b[0m in \u001b[0;36mactivate\u001b[1;34m(inputs, mode, lower, upper)\u001b[0m\n\u001b[0;32m      8\u001b[0m         \u001b[1;32mreturn\u001b[0m \u001b[0mnp\u001b[0m\u001b[1;33m.\u001b[0m\u001b[0mmaximum\u001b[0m\u001b[1;33m(\u001b[0m\u001b[0mNumber\u001b[0m\u001b[1;33m(\u001b[0m\u001b[1;36m0.0\u001b[0m\u001b[1;33m)\u001b[0m\u001b[1;33m,\u001b[0m \u001b[0minputs\u001b[0m\u001b[1;33m)\u001b[0m\u001b[1;33m\u001b[0m\u001b[0m\n\u001b[0;32m      9\u001b[0m     \u001b[1;32melif\u001b[0m \u001b[0mmode\u001b[0m \u001b[1;33m==\u001b[0m \u001b[1;34m'drelu'\u001b[0m\u001b[1;33m:\u001b[0m\u001b[1;33m\u001b[0m\u001b[0m\n\u001b[1;32m---> 10\u001b[1;33m         \u001b[1;32mreturn\u001b[0m \u001b[0mnp\u001b[0m\u001b[1;33m.\u001b[0m\u001b[0mminimum\u001b[0m\u001b[1;33m(\u001b[0m\u001b[0mupper\u001b[0m\u001b[1;33m,\u001b[0m \u001b[0mnp\u001b[0m\u001b[1;33m.\u001b[0m\u001b[0mmaximum\u001b[0m\u001b[1;33m(\u001b[0m\u001b[0mlower\u001b[0m\u001b[1;33m,\u001b[0m \u001b[0minputs\u001b[0m\u001b[1;33m)\u001b[0m\u001b[1;33m)\u001b[0m\u001b[1;33m\u001b[0m\u001b[0m\n\u001b[0m\u001b[0;32m     11\u001b[0m     \u001b[1;32melse\u001b[0m\u001b[1;33m:\u001b[0m\u001b[1;33m\u001b[0m\u001b[0m\n\u001b[0;32m     12\u001b[0m         \u001b[1;32mprint\u001b[0m \u001b[1;34m'Not Supported'\u001b[0m\u001b[1;33m\u001b[0m\u001b[0m\n",
      "\u001b[1;32m/usr/local/lib/python2.7/dist-packages/minpy/dispatch/primitive_selector.pyc\u001b[0m in \u001b[0;36m__call__\u001b[1;34m(self, *args, **kwargs)\u001b[0m\n\u001b[0;32m     34\u001b[0m         _logger.debug('Found primitive \"{}\" with type {}.'.format(self._name,\n\u001b[0;32m     35\u001b[0m                                                                   prim.typestr))\n\u001b[1;32m---> 36\u001b[1;33m         \u001b[1;32mreturn\u001b[0m \u001b[0mprim\u001b[0m\u001b[1;33m(\u001b[0m\u001b[1;33m*\u001b[0m\u001b[0margs\u001b[0m\u001b[1;33m,\u001b[0m \u001b[1;33m**\u001b[0m\u001b[0mkwargs\u001b[0m\u001b[1;33m)\u001b[0m\u001b[1;33m\u001b[0m\u001b[0m\n\u001b[0m",
      "\u001b[1;32m/usr/local/lib/python2.7/dist-packages/minpy/array.pyc\u001b[0m in \u001b[0;36m__call__\u001b[1;34m(self, *args, **kwargs)\u001b[0m\n\u001b[0;32m    570\u001b[0m                 \u001b[0mresult_value\u001b[0m \u001b[1;33m=\u001b[0m \u001b[0mself\u001b[0m\u001b[1;33m.\u001b[0m\u001b[0m_func\u001b[0m\u001b[1;33m(\u001b[0m\u001b[1;33m*\u001b[0m\u001b[0marg_values\u001b[0m\u001b[1;33m,\u001b[0m \u001b[1;33m**\u001b[0m\u001b[0mkwargs_values\u001b[0m\u001b[1;33m)\u001b[0m\u001b[1;33m\u001b[0m\u001b[0m\n\u001b[0;32m    571\u001b[0m         \u001b[1;32melse\u001b[0m\u001b[1;33m:\u001b[0m\u001b[1;33m\u001b[0m\u001b[0m\n\u001b[1;32m--> 572\u001b[1;33m             \u001b[0mresult_value\u001b[0m \u001b[1;33m=\u001b[0m \u001b[0mself\u001b[0m\u001b[1;33m.\u001b[0m\u001b[0m_func\u001b[0m\u001b[1;33m(\u001b[0m\u001b[1;33m*\u001b[0m\u001b[0marg_values\u001b[0m\u001b[1;33m,\u001b[0m \u001b[1;33m**\u001b[0m\u001b[0mkwargs_values\u001b[0m\u001b[1;33m)\u001b[0m\u001b[1;33m\u001b[0m\u001b[0m\n\u001b[0m\u001b[0;32m    573\u001b[0m         \u001b[1;31m# if you want to do profiling, try to use minprof(<func>):\u001b[0m\u001b[1;33m\u001b[0m\u001b[1;33m\u001b[0m\u001b[0m\n\u001b[0;32m    574\u001b[0m         \u001b[1;31m# result_value = minprof(self._func)(*arg_values, **kwargs_values)\u001b[0m\u001b[1;33m\u001b[0m\u001b[1;33m\u001b[0m\u001b[0m\n",
      "\u001b[1;31mKeyboardInterrupt\u001b[0m: "
     ]
    }
   ],
   "source": [
    "from constructor import *\n",
    "from solver import *\n",
    "import utils\n",
    "\n",
    "model_name = 'mlp'\n",
    "act_mode = 'drelu'\n",
    "model_setting = {\n",
    "    'model_structure': [784, 256, 64, 10],\n",
    "    'act_mode': [act_mode, act_mode],\n",
    "    'device': 1,\n",
    "    'weight_init': 0.01,\n",
    "    'bias_init': 0.1,\n",
    "    'lower_bound': -0.5,\n",
    "    'upper_bound': 1.0,\n",
    "}\n",
    "model = build_model(model_name, model_setting)\n",
    "\n",
    "solver_setting = {\n",
    "    'epoch': 30,\n",
    "    'batch_size': 50,\n",
    "    'decay_rate': 0.9,\n",
    "    'decay_interval': 5,\n",
    "    'optimizer': 'sgd',\n",
    "    'update_setting': {'learning_rate': 0.18},\n",
    "}\n",
    "solver = Solver(model, data, **solver_setting)\n",
    "accuracy_record = solver.train()\n",
    "utils.record_settings('%s-%s' % (model_name, act_mode), model_setting, solver_setting)\n",
    "print accuracy_record"
   ]
  },
  {
   "cell_type": "code",
   "execution_count": null,
   "metadata": {
    "collapsed": false
   },
   "outputs": [],
   "source": [
    "#Validation Accuracy\n",
    "plt.plot(range(len(accuracy_record)), accuracy_record)\n",
    "plt.suptitle('Validation Accuracy', fontsize=14, fontweight='bold')\n",
    "plt.xlabel('Epoch')\n",
    "plt.ylabel('Accuracy')"
   ]
  },
  {
   "cell_type": "code",
   "execution_count": null,
   "metadata": {
    "collapsed": false
   },
   "outputs": [],
   "source": [
    "#TODO: Current graphs are epoch-wise sampling from a certain batch in one epoch. Do a full epoch \n",
    "\n",
    "print 'Program Over Flag'"
   ]
  }
 ],
 "metadata": {
  "kernelspec": {
   "display_name": "Python 2",
   "language": "python",
   "name": "python2"
  },
  "language_info": {
   "codemirror_mode": {
    "name": "ipython",
    "version": 2
   },
   "file_extension": ".py",
   "mimetype": "text/x-python",
   "name": "python",
   "nbconvert_exporter": "python",
   "pygments_lexer": "ipython2",
   "version": "2.7.6"
  }
 },
 "nbformat": 4,
 "nbformat_minor": 0
}
