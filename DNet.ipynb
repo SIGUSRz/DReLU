{
 "cells": [
  {
   "cell_type": "code",
   "execution_count": 1,
   "metadata": {
    "collapsed": false
   },
   "outputs": [
    {
     "name": "stdout",
     "output_type": "stream",
     "text": [
      "train-images-idx3-ubyte exits\n",
      "train-labels-idx1-ubyte exits\n",
      "t10k-images-idx3-ubyte exits\n",
      "t10k-labels-idx1-ubyte exits\n",
      "(200, 28, 28)\n",
      "(200, 1)\n",
      "(1000, 28, 28)\n",
      "(1000, 1)\n",
      "(1000, 28, 28)\n",
      "(1000, 1)\n"
     ]
    }
   ],
   "source": [
    "import numpy as np\n",
    "import load_data\n",
    "num_train = 200\n",
    "num_val = 1000\n",
    "num_test = 1000\n",
    "cifar_path = 'Datasets/cifar-10'\n",
    "mnist_path = 'Datasets/mnist'\n",
    "\n",
    "def get_data(path,num_train,num_val,num_test):\n",
    "    x_train,y_train,x_test,y_test = load_data.load_MNIST(path)\n",
    "    x_val = x_train[num_train:num_train+num_val]\n",
    "    y_val = y_train[num_train:num_train+num_val]\n",
    "    x_train = x_train[:num_train]\n",
    "    y_train = y_train[:num_train]\n",
    "    x_test = x_test[:num_test]\n",
    "    y_test = y_test[:num_test]\n",
    "    return x_train,y_train,x_val,y_val,x_test,y_test\n",
    "x_train,y_train,x_val,y_val,x_test,y_test = get_data(mnist_path,num_train,num_val,num_test)\n",
    "print(x_train.shape)\n",
    "print(y_train.shape)\n",
    "print(x_val.shape)\n",
    "print(y_val.shape)\n",
    "print(x_test.shape)\n",
    "print(y_test.shape)"
   ]
  },
  {
   "cell_type": "code",
   "execution_count": null,
   "metadata": {
    "collapsed": false
   },
   "outputs": [],
   "source": [
    "import mxnet as mx\n",
    "import model\n",
    "num_epoch = 10\n",
    "x_train = np.transpose(x_train,(0,3,1,2))\n",
    "print x_train.shape\n",
    "num_train = x_train.shape[0]\n",
    "learning_rate = 0.01\n",
    "devices=mx.cpu()\n",
    "net = model.build_model(features=x_train, labels=y_train, num_train=num_train, device=devices, \n",
    "                        epoch=num_epoch, lr=learning_rate)\n",
    "print 'Train Accuracy: %d' % model.get_accuracy(y_train, net.predict(x_train).argmax(axis=1))\n",
    "print 'Test Accuracy: %d' % model.get_accuracy(y_val, net.predict(x_val).argmax(axis=1))"
   ]
  },
  {
   "cell_type": "code",
   "execution_count": null,
   "metadata": {
    "collapsed": false
   },
   "outputs": [],
   "source": [
    "print 'hey'"
   ]
  },
  {
   "cell_type": "code",
   "execution_count": null,
   "metadata": {
    "collapsed": true
   },
   "outputs": [],
   "source": []
  },
  {
   "cell_type": "code",
   "execution_count": null,
   "metadata": {
    "collapsed": true
   },
   "outputs": [],
   "source": []
  }
 ],
 "metadata": {
  "kernelspec": {
   "display_name": "Python 2",
   "language": "python",
   "name": "python2"
  },
  "language_info": {
   "codemirror_mode": {
    "name": "ipython",
    "version": 2
   },
   "file_extension": ".py",
   "mimetype": "text/x-python",
   "name": "python",
   "nbconvert_exporter": "python",
   "pygments_lexer": "ipython2",
   "version": "2.7.6"
  }
 },
 "nbformat": 4,
 "nbformat_minor": 0
}
