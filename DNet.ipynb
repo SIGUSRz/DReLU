{
 "cells": [
  {
   "cell_type": "code",
   "execution_count": 1,
   "metadata": {
    "collapsed": false
   },
   "outputs": [
    {
     "name": "stdout",
     "output_type": "stream",
     "text": [
      "train-images-idx3-ubyte exits\n",
      "train-labels-idx1-ubyte exits\n",
      "t10k-images-idx3-ubyte exits\n",
      "t10k-labels-idx1-ubyte exits\n",
      "(60000, 28, 28)\n",
      "(60000, 1)\n",
      "(0, 28, 28)\n",
      "(0, 1)\n",
      "(10000, 28, 28)\n",
      "(10000, 1)\n"
     ]
    }
   ],
   "source": [
    "import numpy as np\n",
    "import load_data\n",
    "num_train = 60000\n",
    "num_val = 0\n",
    "num_test = 10000\n",
    "num_device = 2\n",
    "cifar_path = 'Datasets/cifar-10'\n",
    "mnist_path = 'Datasets/mnist'\n",
    "\n",
    "def get_data(path,num_train,num_val,num_test):\n",
    "    x_train,y_train,x_test,y_test = load_data.load_MNIST(path)\n",
    "    x_val = x_train[num_train:num_train+num_val]\n",
    "    y_val = y_train[num_train:num_train+num_val]\n",
    "    x_train = x_train[:num_train]\n",
    "    y_train = y_train[:num_train]\n",
    "    x_test = x_test[:num_test]\n",
    "    y_test = y_test[:num_test]\n",
    "    return x_train,y_train,x_val,y_val,x_test,y_test\n",
    "x_train,y_train,x_val,y_val,x_test,y_test = get_data(mnist_path,num_train,num_val,num_test)\n",
    "print(x_train.shape)\n",
    "print(y_train.shape)\n",
    "print(x_val.shape)\n",
    "print(y_val.shape)\n",
    "print(x_test.shape)\n",
    "print(y_test.shape)"
   ]
  },
  {
   "cell_type": "code",
   "execution_count": 2,
   "metadata": {
    "collapsed": false
   },
   "outputs": [
    {
     "name": "stderr",
     "output_type": "stream",
     "text": [
      "Start training with [gpu(0), gpu(1)]\n",
      "Epoch[0] Time cost=0.946\n",
      "Epoch[0] Validation-accuracy=0.942049\n",
      "Epoch[1] Resetting Data Iterator\n",
      "Epoch[1] Time cost=0.884\n",
      "Epoch[1] Validation-accuracy=0.960136\n",
      "Epoch[2] Resetting Data Iterator\n",
      "Epoch[2] Time cost=0.848\n",
      "Epoch[2] Validation-accuracy=0.964143\n",
      "Epoch[3] Resetting Data Iterator\n",
      "Epoch[3] Time cost=0.905\n",
      "Epoch[3] Validation-accuracy=0.970954\n",
      "Epoch[4] Resetting Data Iterator\n",
      "Epoch[4] Time cost=0.832\n",
      "Epoch[4] Validation-accuracy=0.972256\n",
      "Epoch[5] Resetting Data Iterator\n",
      "Epoch[5] Time cost=0.835\n",
      "Epoch[5] Validation-accuracy=0.973958\n",
      "Epoch[6] Resetting Data Iterator\n",
      "Epoch[6] Time cost=0.835\n",
      "Epoch[6] Validation-accuracy=0.972055\n",
      "Epoch[7] Resetting Data Iterator\n",
      "Epoch[7] Time cost=0.841\n",
      "Epoch[7] Validation-accuracy=0.973658\n",
      "Epoch[8] Resetting Data Iterator\n",
      "Epoch[8] Time cost=0.855\n",
      "Epoch[8] Validation-accuracy=0.973497\n",
      "Epoch[9] Resetting Data Iterator\n",
      "Epoch[9] Time cost=0.838\n",
      "Epoch[9] Validation-accuracy=0.972756\n",
      "Epoch[10] Resetting Data Iterator\n",
      "Epoch[10] Time cost=0.853\n",
      "Epoch[10] Validation-accuracy=0.974058\n",
      "Epoch[11] Resetting Data Iterator\n",
      "Epoch[11] Time cost=0.907\n",
      "Epoch[11] Validation-accuracy=0.972957\n",
      "Epoch[12] Resetting Data Iterator\n",
      "Epoch[12] Time cost=0.806\n",
      "Epoch[12] Validation-accuracy=0.973257\n",
      "Epoch[13] Resetting Data Iterator\n",
      "Epoch[13] Time cost=0.803\n",
      "Epoch[13] Validation-accuracy=0.973458\n",
      "Epoch[14] Resetting Data Iterator\n",
      "Epoch[14] Time cost=0.802\n",
      "Epoch[14] Validation-accuracy=0.973658\n",
      "Epoch[15] Resetting Data Iterator\n",
      "Epoch[15] Time cost=0.800\n",
      "Epoch[15] Validation-accuracy=0.973658\n",
      "Epoch[16] Resetting Data Iterator\n",
      "Epoch[16] Time cost=0.822\n",
      "Epoch[16] Validation-accuracy=0.973892\n",
      "Epoch[17] Resetting Data Iterator\n",
      "Epoch[17] Time cost=0.902\n",
      "Epoch[17] Validation-accuracy=0.973958\n",
      "Epoch[18] Resetting Data Iterator\n",
      "Epoch[18] Time cost=0.860\n",
      "Epoch[18] Validation-accuracy=0.974559\n",
      "Epoch[19] Resetting Data Iterator\n",
      "Epoch[19] Time cost=0.827\n",
      "Epoch[19] Validation-accuracy=0.975461\n"
     ]
    }
   ],
   "source": [
    "import mxnet as mx\n",
    "import model\n",
    "import log\n",
    "batch_size = 256\n",
    "num_epoch = 20\n",
    "learning_rate = 0.2\n",
    "devices= [mx.gpu(i) for i in range(num_device)]\n",
    "x_train = x_train.reshape((num_train,784))\n",
    "x_test = x_test.reshape((num_test,784))\n",
    "net = model.build_model(device=devices, num_epoch=num_epoch, lr=learning_rate)\n",
    "model.train_model(net, train_data=(x_train,y_train), eval_data=(x_test,y_test), \n",
    "                  batch_size=batch_size, kvstore='local', top_accuracy=1)"
   ]
  },
  {
   "cell_type": "code",
   "execution_count": null,
   "metadata": {
    "collapsed": false
   },
   "outputs": [],
   "source": []
  },
  {
   "cell_type": "code",
   "execution_count": null,
   "metadata": {
    "collapsed": true
   },
   "outputs": [],
   "source": []
  },
  {
   "cell_type": "code",
   "execution_count": 3,
   "metadata": {
    "collapsed": false
   },
   "outputs": [
    {
     "name": "stdout",
     "output_type": "stream",
     "text": [
      "Program Over Flag\n"
     ]
    }
   ],
   "source": [
    "print 'Program Over Flag'"
   ]
  },
  {
   "cell_type": "code",
   "execution_count": null,
   "metadata": {
    "collapsed": true
   },
   "outputs": [],
   "source": []
  },
  {
   "cell_type": "code",
   "execution_count": null,
   "metadata": {
    "collapsed": true
   },
   "outputs": [],
   "source": []
  }
 ],
 "metadata": {
  "kernelspec": {
   "display_name": "Python 2",
   "language": "python",
   "name": "python2"
  },
  "language_info": {
   "codemirror_mode": {
    "name": "ipython",
    "version": 2
   },
   "file_extension": ".py",
   "mimetype": "text/x-python",
   "name": "python",
   "nbconvert_exporter": "python",
   "pygments_lexer": "ipython2",
   "version": "2.7.6"
  }
 },
 "nbformat": 4,
 "nbformat_minor": 0
}
